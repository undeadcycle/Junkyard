{
 "cells": [
  {
   "cell_type": "code",
   "execution_count": 15,
   "id": "8384781b-9e2c-445e-ad4c-4803064630d7",
   "metadata": {},
   "outputs": [
    {
     "name": "stdout",
     "output_type": "stream",
     "text": [
      "Fetching and parsing CHA Guide Events\n",
      "Length of parsed content: 428909\n",
      "Parsed HTML content has been logged to CHA Guide Events_parsed_log.html\n"
     ]
    }
   ],
   "source": [
    "from selenium import webdriver\n",
    "from selenium.webdriver.chrome.service import Service\n",
    "from selenium.webdriver.chrome.options import Options\n",
    "from webdriver_manager.chrome import ChromeDriverManager\n",
    "from bs4 import BeautifulSoup\n",
    "import time\n",
    "\n",
    "# Configuration for a single site (for example: \"Visit Chattanooga\")\n",
    "SITE = {\n",
    "    \"name\": \"CHA Guide Events\",\n",
    "    \"url\": \"https://www.cha.guide/events\"\n",
    "}\n",
    "\n",
    "def fetch_page(url):\n",
    "    options = Options()\n",
    "    options.add_argument(\"--headless\")  # Run in headless mode (no GUI)\n",
    "    service = Service(ChromeDriverManager().install())\n",
    "    driver = webdriver.Chrome(service=service, options=options)\n",
    "    \n",
    "    try:\n",
    "        driver.get(url)\n",
    "        time.sleep(5)  # Wait for JavaScript to load content\n",
    "        return driver.page_source\n",
    "    except Exception as e:\n",
    "        print(f\"Error fetching the page: {e}\")\n",
    "        return None\n",
    "    finally:\n",
    "        driver.quit()\n",
    "\n",
    "def parse_html(html_content):\n",
    "    return BeautifulSoup(html_content, 'html.parser')\n",
    "\n",
    "def log_parsed_html(parsed_content, site_name):\n",
    "    with open(f\"{site_name}_parsed_log.html\", \"w\", encoding='utf-8') as file:\n",
    "        file.write(str(parsed_content))\n",
    "\n",
    "def main():\n",
    "    site_name = SITE[\"name\"]\n",
    "    url = SITE[\"url\"]\n",
    "    \n",
    "    print(f\"Fetching and parsing {site_name}\")\n",
    "    html_content = fetch_page(url)  # This should be using Selenium\n",
    "    if html_content:\n",
    "        parsed_content = parse_html(html_content)\n",
    "        print(f\"Length of parsed content: {len(str(parsed_content))}\")\n",
    "        log_parsed_html(parsed_content, site_name)\n",
    "        print(f\"Parsed HTML content has been logged to {site_name}_parsed_log.html\")\n",
    "    else:\n",
    "        print(f\"Skipping {site_name} due to fetch error\")\n",
    "\n",
    "if __name__ == \"__main__\":\n",
    "    main()\n"
   ]
  },
  {
   "cell_type": "code",
   "execution_count": null,
   "id": "5f83f8ed-2142-4d55-b325-7e55e9184779",
   "metadata": {},
   "outputs": [],
   "source": []
  }
 ],
 "metadata": {
  "kernelspec": {
   "display_name": "Python 3 (ipykernel)",
   "language": "python",
   "name": "python3"
  },
  "language_info": {
   "codemirror_mode": {
    "name": "ipython",
    "version": 3
   },
   "file_extension": ".py",
   "mimetype": "text/x-python",
   "name": "python",
   "nbconvert_exporter": "python",
   "pygments_lexer": "ipython3",
   "version": "3.11.7"
  }
 },
 "nbformat": 4,
 "nbformat_minor": 5
}
